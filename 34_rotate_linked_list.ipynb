{
 "cells": [
  {
   "cell_type": "markdown",
   "metadata": {},
   "source": [
    "# Rotate a Linked List By N"
   ]
  },
  {
   "cell_type": "markdown",
   "metadata": {},
   "source": [
    "### Node Class"
   ]
  },
  {
   "cell_type": "code",
   "execution_count": 61,
   "metadata": {},
   "outputs": [],
   "source": [
    "class Node:\n",
    "    # constructor of node\n",
    "    def __init__(self, data=None, next=None):\n",
    "        self.data = data\n",
    "        self.next = next"
   ]
  },
  {
   "cell_type": "markdown",
   "metadata": {},
   "source": [
    "### Insert Node"
   ]
  },
  {
   "cell_type": "code",
   "execution_count": 62,
   "metadata": {},
   "outputs": [],
   "source": [
    "def insert(data):\n",
    "    node = Node()\n",
    "    node.data = data\n",
    "    return node"
   ]
  },
  {
   "cell_type": "markdown",
   "metadata": {},
   "source": [
    "### Print Linked List"
   ]
  },
  {
   "cell_type": "code",
   "execution_count": 63,
   "metadata": {},
   "outputs": [],
   "source": [
    "def display(head):\n",
    "    p:Node = head\n",
    "    while p != None:\n",
    "        if p.next == None:\n",
    "            print(p.data)\n",
    "        else:\n",
    "            print(p.data, end=' -> ')\n",
    "        p = p.next"
   ]
  },
  {
   "cell_type": "markdown",
   "metadata": {},
   "source": [
    "### Rotate Linked List By K"
   ]
  },
  {
   "cell_type": "code",
   "execution_count": 64,
   "metadata": {},
   "outputs": [],
   "source": [
    "def rotate(head, k):\n",
    "    if head == None or head.next == None:\n",
    "        return head\n",
    "    count = 1 \n",
    "    p = head\n",
    "    while count < k and p != None:\n",
    "        p = p.next\n",
    "        count += 1\n",
    "\n",
    "    if p is None:\n",
    "        return\n",
    "    \n",
    "    new_start = p.next\n",
    "    p.next = None\n",
    "\n",
    "    curr = new_start\n",
    "    while curr.next != None:\n",
    "        curr = curr.next\n",
    "\n",
    "    curr.next = head\n",
    "    head = new_start\n",
    "    return head"
   ]
  },
  {
   "cell_type": "markdown",
   "metadata": {},
   "source": [
    "### Driver Code"
   ]
  },
  {
   "cell_type": "code",
   "execution_count": 65,
   "metadata": {},
   "outputs": [],
   "source": [
    "# Create list: 1->2->3->4->5\n",
    "head = insert(1)\n",
    "head.next = insert(2)\n",
    "head.next.next = insert(3)\n",
    "head.next.next.next = insert(4)\n",
    "head.next.next.next.next = insert(5)"
   ]
  },
  {
   "cell_type": "code",
   "execution_count": 66,
   "metadata": {},
   "outputs": [
    {
     "name": "stdout",
     "output_type": "stream",
     "text": [
      "1 -> 2 -> 3 -> 4 -> 5\n"
     ]
    }
   ],
   "source": [
    "display(head)"
   ]
  },
  {
   "cell_type": "code",
   "execution_count": 67,
   "metadata": {},
   "outputs": [],
   "source": [
    "head = rotate(head, 2)"
   ]
  },
  {
   "cell_type": "code",
   "execution_count": 68,
   "metadata": {},
   "outputs": [
    {
     "name": "stdout",
     "output_type": "stream",
     "text": [
      "3 -> 4 -> 5 -> 1 -> 2\n"
     ]
    }
   ],
   "source": [
    "display(head)"
   ]
  }
 ],
 "metadata": {
  "kernelspec": {
   "display_name": "Python 3.8.10 64-bit",
   "language": "python",
   "name": "python3"
  },
  "language_info": {
   "codemirror_mode": {
    "name": "ipython",
    "version": 3
   },
   "file_extension": ".py",
   "mimetype": "text/x-python",
   "name": "python",
   "nbconvert_exporter": "python",
   "pygments_lexer": "ipython3",
   "version": "3.8.10"
  },
  "orig_nbformat": 4,
  "vscode": {
   "interpreter": {
    "hash": "916dbcbb3f70747c44a77c7bcd40155683ae19c65e1c03b4aa3499c5328201f1"
   }
  }
 },
 "nbformat": 4,
 "nbformat_minor": 2
}
