{
 "cells": [
  {
   "cell_type": "markdown",
   "metadata": {},
   "source": [
    "# Print all prime numbers less than or equal to N"
   ]
  },
  {
   "cell_type": "code",
   "execution_count": 1,
   "metadata": {},
   "outputs": [],
   "source": [
    "def isprime(n):\n",
    "    p = 2\n",
    "    while p*p <= n:\n",
    "        if n % p == 0:\n",
    "            return False\n",
    "    return True\n",
    "\n",
    "def n_primes(n):\n",
    "    primes = [True] * 99999\n",
    "    i = 2\n",
    "    lst = []\n",
    "    count = 0\n",
    "    while i <= n:\n",
    "        if primes[i] == True:\n",
    "            if isprime(i):\n",
    "                for i in range(i+i, len(primes), i+i):\n",
    "                    primes[i] = False\n",
    "                count += 1\n",
    "                lst.append(primes[i])\n",
    "        if count == n:\n",
    "            break\n",
    "        i += 1"
   ]
  }
 ],
 "metadata": {
  "kernelspec": {
   "display_name": "Python 3.8.10 64-bit",
   "language": "python",
   "name": "python3"
  },
  "language_info": {
   "codemirror_mode": {
    "name": "ipython",
    "version": 3
   },
   "file_extension": ".py",
   "mimetype": "text/x-python",
   "name": "python",
   "nbconvert_exporter": "python",
   "pygments_lexer": "ipython3",
   "version": "3.8.10"
  },
  "orig_nbformat": 4,
  "vscode": {
   "interpreter": {
    "hash": "916dbcbb3f70747c44a77c7bcd40155683ae19c65e1c03b4aa3499c5328201f1"
   }
  }
 },
 "nbformat": 4,
 "nbformat_minor": 2
}
