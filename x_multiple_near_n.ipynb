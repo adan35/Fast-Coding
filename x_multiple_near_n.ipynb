{
 "cells": [
  {
   "cell_type": "markdown",
   "metadata": {},
   "source": [
    "# Multiple of x closest to n"
   ]
  },
  {
   "cell_type": "markdown",
   "metadata": {},
   "source": [
    "Input : n = 9, x = 4\n",
    "Output : 8\n",
    "\n",
    "Input  : n = 2855, x = 13\n",
    "Output : 2860\n",
    "\n",
    "Input  :  n = 46426171, x = 43\n",
    "Output :  46426154\n",
    "\n",
    "Input  :  n = 1, x = 3\n",
    "Output :  3"
   ]
  },
  {
   "cell_type": "code",
   "execution_count": 12,
   "metadata": {},
   "outputs": [],
   "source": [
    "import math\n",
    "def closet_multiple(n, x):\n",
    "    if x > n:\n",
    "        return x\n",
    "    if (n/x - n//x) < 0.5:\n",
    "        value = math.floor(n/x)\n",
    "    else:\n",
    "        value = math.ceil(n/x)\n",
    "    return x * value"
   ]
  },
  {
   "cell_type": "code",
   "execution_count": 13,
   "metadata": {},
   "outputs": [
    {
     "data": {
      "text/plain": [
       "3"
      ]
     },
     "execution_count": 13,
     "metadata": {},
     "output_type": "execute_result"
    }
   ],
   "source": [
    "closet_multiple(1, 3)"
   ]
  }
 ],
 "metadata": {
  "kernelspec": {
   "display_name": "Python 3.8.10 64-bit",
   "language": "python",
   "name": "python3"
  },
  "language_info": {
   "codemirror_mode": {
    "name": "ipython",
    "version": 3
   },
   "file_extension": ".py",
   "mimetype": "text/x-python",
   "name": "python",
   "nbconvert_exporter": "python",
   "pygments_lexer": "ipython3",
   "version": "3.8.10"
  },
  "orig_nbformat": 4,
  "vscode": {
   "interpreter": {
    "hash": "916dbcbb3f70747c44a77c7bcd40155683ae19c65e1c03b4aa3499c5328201f1"
   }
  }
 },
 "nbformat": 4,
 "nbformat_minor": 2
}
