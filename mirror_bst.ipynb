{
 "cells": [
  {
   "cell_type": "code",
   "execution_count": null,
   "metadata": {},
   "outputs": [],
   "source": [
    "def mirror(root):\n",
    "    if root == None:\n",
    "        return\n",
    "    else:\n",
    "        temp = root\n",
    "        mirror(root.left)\n",
    "        mirror(root.right)\n",
    "        temp = root.left\n",
    "        root.left = root.right\n",
    "        root.right = temp"
   ]
  }
 ],
 "metadata": {
  "language_info": {
   "name": "python"
  },
  "orig_nbformat": 4
 },
 "nbformat": 4,
 "nbformat_minor": 2
}
