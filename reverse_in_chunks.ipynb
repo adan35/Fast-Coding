{
 "cells": [
  {
   "cell_type": "markdown",
   "metadata": {},
   "source": [
    "# Reverse a Linked List in groups of given size"
   ]
  },
  {
   "cell_type": "code",
   "execution_count": null,
   "metadata": {},
   "outputs": [],
   "source": [
    "def reverse_in_chunks(head, k):\n",
    "    if head == None:\n",
    "        return\n",
    "    curr = head\n",
    "    pre = None\n",
    "    next = None\n",
    "    count = 0\n",
    "    while curr.next != None and count < k:\n",
    "        next = curr.next\n",
    "        curr.next = pre\n",
    "        pre = curr\n",
    "        curr = curr.next\n",
    "        count += 1\n",
    "    if next != None:\n",
    "        head.next = reverse_in_chunks(next, k)\n",
    "    return pre"
   ]
  }
 ],
 "metadata": {
  "kernelspec": {
   "display_name": "Python 3.8.10 64-bit",
   "language": "python",
   "name": "python3"
  },
  "language_info": {
   "name": "python",
   "version": "3.8.10"
  },
  "orig_nbformat": 4,
  "vscode": {
   "interpreter": {
    "hash": "916dbcbb3f70747c44a77c7bcd40155683ae19c65e1c03b4aa3499c5328201f1"
   }
  }
 },
 "nbformat": 4,
 "nbformat_minor": 2
}
