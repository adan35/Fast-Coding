{
 "cells": [
  {
   "cell_type": "markdown",
   "metadata": {},
   "source": [
    "# Reverse a Linked List in groups of given size"
   ]
  },
  {
   "cell_type": "code",
   "execution_count": null,
   "metadata": {},
   "outputs": [],
   "source": [
    "def reverse_in_chunks(head, k):\n",
    "    if head == None:\n",
    "        return\n",
    "    curr = head\n",
    "    pre = None\n",
    "    next = None\n",
    "    count = 0\n",
    "    while curr.next != None and count < k:\n",
    "        next = curr.next\n",
    "        curr.next = pre\n",
    "        pre = curr\n",
    "        curr = curr.next\n",
    "        count += 1\n",
    "    if next != None:\n",
    "        head.next = reverse_in_chunks(next, k)\n",
    "    return pre"
   ]
  }
 ],
 "metadata": {
  "language_info": {
   "name": "python"
  },
  "orig_nbformat": 4
 },
 "nbformat": 4,
 "nbformat_minor": 2
}
