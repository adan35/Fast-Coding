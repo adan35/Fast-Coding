{
 "cells": [
  {
   "cell_type": "markdown",
   "metadata": {},
   "source": [
    "## Segregate even and odd nodes in a Linked List"
   ]
  },
  {
   "cell_type": "markdown",
   "metadata": {},
   "source": [
    "Given a Linked List of integers, write a function to modify the linked list such that all even numbers appear before all the odd numbers in the modified linked list. Also, keep the order of even and odd numbers the same.\n",
    "\n",
    "**Examples:** "
   ]
  },
  {
   "cell_type": "markdown",
   "metadata": {},
   "source": [
    "Input: 17->15->8->12->10->5->4->1->7->6->NULL\n",
    "Output: 8->12->10->4->6->17->15->5->1->7->NULL\n",
    "\n",
    "Input: 8->12->10->5->4->1->6->NULL\n",
    "Output: 8->12->10->4->6->5->1->NULL\n",
    "\n",
    "// If all numbers are even then do not change the list\n",
    "Input: 8->12->10->NULL\n",
    "Output: 8->12->10->NULL\n",
    "\n",
    "// If all numbers are odd then do not change the list\n",
    "Input: 1->3->5->7->NULL\n",
    "Output: 1->3->5->7->NULL"
   ]
  },
  {
   "cell_type": "markdown",
   "metadata": {},
   "source": [
    "#### Node Class"
   ]
  },
  {
   "cell_type": "code",
   "execution_count": 54,
   "metadata": {},
   "outputs": [],
   "source": [
    "class newNode:\n",
    "    def __init__(self, data):\n",
    "        self.data = data\n",
    "        self.next = None"
   ]
  },
  {
   "cell_type": "markdown",
   "metadata": {},
   "source": [
    "#### Print Linked List"
   ]
  },
  {
   "cell_type": "code",
   "execution_count": 55,
   "metadata": {},
   "outputs": [],
   "source": [
    "def display(head):\n",
    "    p = head\n",
    "    while p:\n",
    "        if (not p.next):\n",
    "            print(p.data)\n",
    "        else:\n",
    "            print(p.data, end=\" -> \")\n",
    "        p = p.next"
   ]
  },
  {
   "cell_type": "markdown",
   "metadata": {},
   "source": [
    "#### Segregate Even Odd"
   ]
  },
  {
   "cell_type": "code",
   "execution_count": 56,
   "metadata": {},
   "outputs": [],
   "source": [
    "def segregate_even_odd(head):\n",
    "    if (not head):\n",
    "        return\n",
    "\n",
    "    p = head\n",
    "    new_even = None\n",
    "    end_even = None\n",
    "    new_odd = None\n",
    "    end_odd = None\n",
    "    while p != None:\n",
    "        val = p.data\n",
    "        if val % 2 == 0:\n",
    "            if (not new_even):\n",
    "                new_even = p\n",
    "                end_even = new_even\n",
    "            else:\n",
    "                end_even.next = p\n",
    "                end_even = end_even.next\n",
    "        else:\n",
    "            if (not new_odd):\n",
    "                new_odd = p\n",
    "                end_odd = new_odd\n",
    "            else:\n",
    "                end_odd.next = p\n",
    "                end_odd = end_odd.next\n",
    "        p = p.next\n",
    "    \n",
    "    if (not end_even) or (not end_odd):\n",
    "        return\n",
    "\n",
    "    end_even.next = new_odd\n",
    "    end_odd.next = None\n",
    "    return new_even"
   ]
  },
  {
   "cell_type": "markdown",
   "metadata": {},
   "source": [
    "#### Driver Code"
   ]
  },
  {
   "cell_type": "code",
   "execution_count": 57,
   "metadata": {},
   "outputs": [],
   "source": [
    "head = newNode(1)\n",
    "head.next = newNode(2)\n",
    "head.next.next = newNode(3)\n",
    "head.next.next.next = newNode(4)\n",
    "head.next.next.next.next = newNode(6)\n",
    "head.next.next.next.next.next = newNode(8)\n",
    "head.next.next.next.next.next.next = newNode(10)"
   ]
  },
  {
   "cell_type": "code",
   "execution_count": 58,
   "metadata": {},
   "outputs": [
    {
     "name": "stdout",
     "output_type": "stream",
     "text": [
      "1 -> 2 -> 3 -> 4 -> 6 -> 8 -> 10\n"
     ]
    }
   ],
   "source": [
    "display(head)"
   ]
  },
  {
   "cell_type": "code",
   "execution_count": 59,
   "metadata": {},
   "outputs": [],
   "source": [
    "head = segregate_even_odd(head)"
   ]
  },
  {
   "cell_type": "code",
   "execution_count": 60,
   "metadata": {},
   "outputs": [
    {
     "name": "stdout",
     "output_type": "stream",
     "text": [
      "2 -> 4 -> 6 -> 8 -> 10 -> 1 -> 3\n"
     ]
    }
   ],
   "source": [
    "display(head)"
   ]
  }
 ],
 "metadata": {
  "kernelspec": {
   "display_name": "Python 3.8.10 64-bit",
   "language": "python",
   "name": "python3"
  },
  "language_info": {
   "codemirror_mode": {
    "name": "ipython",
    "version": 3
   },
   "file_extension": ".py",
   "mimetype": "text/x-python",
   "name": "python",
   "nbconvert_exporter": "python",
   "pygments_lexer": "ipython3",
   "version": "3.8.10"
  },
  "orig_nbformat": 4,
  "vscode": {
   "interpreter": {
    "hash": "916dbcbb3f70747c44a77c7bcd40155683ae19c65e1c03b4aa3499c5328201f1"
   }
  }
 },
 "nbformat": 4,
 "nbformat_minor": 2
}
