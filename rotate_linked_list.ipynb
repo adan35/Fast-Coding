{
 "cells": [
  {
   "cell_type": "markdown",
   "metadata": {},
   "source": [
    "# Rotate a Linked List"
   ]
  },
  {
   "cell_type": "code",
   "execution_count": 1,
   "metadata": {},
   "outputs": [],
   "source": [
    "def rotate(head, k):\n",
    "    if head == None or head.next == None:\n",
    "        return head\n",
    "    count = 1 \n",
    "    p = head\n",
    "    while count < k and p != None:\n",
    "        p = p.next\n",
    "        count += 1\n",
    "\n",
    "    if p is None:\n",
    "        return\n",
    "    \n",
    "    new_start = p.next\n",
    "\n",
    "    curr = new_start\n",
    "    while curr.next != None:\n",
    "        curr = curr.next\n",
    "\n",
    "    curr.next = head\n",
    "    head = new_start.next\n",
    "    return head"
   ]
  }
 ],
 "metadata": {
  "kernelspec": {
   "display_name": "Python 3.8.10 64-bit",
   "language": "python",
   "name": "python3"
  },
  "language_info": {
   "codemirror_mode": {
    "name": "ipython",
    "version": 3
   },
   "file_extension": ".py",
   "mimetype": "text/x-python",
   "name": "python",
   "nbconvert_exporter": "python",
   "pygments_lexer": "ipython3",
   "version": "3.8.10"
  },
  "orig_nbformat": 4,
  "vscode": {
   "interpreter": {
    "hash": "916dbcbb3f70747c44a77c7bcd40155683ae19c65e1c03b4aa3499c5328201f1"
   }
  }
 },
 "nbformat": 4,
 "nbformat_minor": 2
}
