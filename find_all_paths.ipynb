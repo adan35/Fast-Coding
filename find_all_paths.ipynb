{
 "cells": [
  {
   "cell_type": "code",
   "execution_count": 1,
   "metadata": {},
   "outputs": [],
   "source": [
    "def count_paths(maze, r, c):\n",
    "    if maze[0][0] == -1:\n",
    "        return 0\n",
    "    for i in range(1, r):\n",
    "        if maze[i][0] == 0:\n",
    "            maze[i][0] = 1  \n",
    "        else:\n",
    "            break\n",
    "    for i in range(1, c):\n",
    "        if maze[0][i] == 0:\n",
    "            maze[0][i] = 1\n",
    "        else:\n",
    "            break\n",
    "    for i in range(1, r):\n",
    "        for j in range(1, j):\n",
    "\n",
    "            if maze[i][j] == -1:\n",
    "                continue\n",
    "\n",
    "            if maze[i-1][j] > 0:\n",
    "                maze[i][j] += maze[i-1][j]\n",
    "            \n",
    "            if maze[i][j-1] > 0:\n",
    "                maze[i][j] += maze[i][j-1]\n",
    "\n",
    "    if (maze[r - 1][c - 1] > 0):\n",
    "        return maze[r - 1][c - 1]\n",
    "    else:\n",
    "        return 0"
   ]
  }
 ],
 "metadata": {
  "kernelspec": {
   "display_name": "Python 3.8.10 64-bit",
   "language": "python",
   "name": "python3"
  },
  "language_info": {
   "codemirror_mode": {
    "name": "ipython",
    "version": 3
   },
   "file_extension": ".py",
   "mimetype": "text/x-python",
   "name": "python",
   "nbconvert_exporter": "python",
   "pygments_lexer": "ipython3",
   "version": "3.8.10"
  },
  "orig_nbformat": 4,
  "vscode": {
   "interpreter": {
    "hash": "916dbcbb3f70747c44a77c7bcd40155683ae19c65e1c03b4aa3499c5328201f1"
   }
  }
 },
 "nbformat": 4,
 "nbformat_minor": 2
}
