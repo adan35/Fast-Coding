{
 "cells": [
  {
   "cell_type": "markdown",
   "metadata": {},
   "source": [
    "## Maximum distinct nodes in a Root to leaf path"
   ]
  },
  {
   "cell_type": "markdown",
   "metadata": {},
   "source": [
    "Input :   1\n",
    "        /    \\\n",
    "       2      3\n",
    "      / \\    / \\\n",
    "     4   5  6   3\n",
    "             \\   \\\n",
    "              8   9 \n",
    "Output : 4 \n",
    "The root to leaf path with maximum distinct\n",
    "nodes is 1-3-6-8."
   ]
  },
  {
   "cell_type": "markdown",
   "metadata": {},
   "source": [
    "### Node Class"
   ]
  },
  {
   "cell_type": "code",
   "execution_count": 9,
   "metadata": {},
   "outputs": [],
   "source": [
    "class Node:\n",
    "    def __init__(self, data = None):\n",
    "        self.data = data\n",
    "        self.left = None\n",
    "        self.right = None"
   ]
  },
  {
   "cell_type": "markdown",
   "metadata": {},
   "source": [
    "### Recursive Method"
   ]
  },
  {
   "cell_type": "code",
   "execution_count": 30,
   "metadata": {},
   "outputs": [],
   "source": [
    "def _largest_unique_path(node, d):\n",
    "    # it will be false until path is unique and not leaf node \n",
    "    if (not node or node.data in d):\n",
    "        return len(d)\n",
    "\n",
    "    # populate dictionary\n",
    "    if node.data in d:\n",
    "        d[node.data] += 1\n",
    "    else:\n",
    "        d[node.data] = 1\n",
    "    \n",
    "    # recurse left right paths\n",
    "    left = _largest_unique_path(node.left, d)\n",
    "    right = _largest_unique_path(node.right, d)\n",
    "\n",
    "    # find max\n",
    "    max_len = max(left, right)\n",
    "\n",
    "    d[node.data] -= 1\n",
    "\n",
    "    if node.data in d:\n",
    "        del d[node.data]\n",
    "    \n",
    "    return max_len"
   ]
  },
  {
   "cell_type": "markdown",
   "metadata": {},
   "source": [
    "### Main Function"
   ]
  },
  {
   "cell_type": "code",
   "execution_count": 31,
   "metadata": {},
   "outputs": [],
   "source": [
    "def largest_unique_path(root):\n",
    "    if not root:\n",
    "        return 0\n",
    "    \n",
    "    hash = {}\n",
    "\n",
    "    return _largest_unique_path(root, hash)"
   ]
  },
  {
   "cell_type": "markdown",
   "metadata": {},
   "source": [
    "### Driver Code"
   ]
  },
  {
   "cell_type": "code",
   "execution_count": 34,
   "metadata": {},
   "outputs": [],
   "source": [
    "# Create binary tree shown in above figure\n",
    "root = Node(1)\n",
    "root.left = Node(2)\n",
    "root.right = Node(3)\n",
    "root.left.left = Node(4)\n",
    "root.left.right = Node(5)\n",
    "root.right.left = Node(6)\n",
    "root.right.right = Node(7)\n",
    "root.right.left.right = Node(8)\n",
    "root.right.right.right = Node(9)"
   ]
  },
  {
   "cell_type": "code",
   "execution_count": 35,
   "metadata": {},
   "outputs": [
    {
     "data": {
      "text/plain": [
       "4"
      ]
     },
     "execution_count": 35,
     "metadata": {},
     "output_type": "execute_result"
    }
   ],
   "source": [
    "largest_unique_path(root)"
   ]
  }
 ],
 "metadata": {
  "kernelspec": {
   "display_name": "Python 3.8.10 64-bit",
   "language": "python",
   "name": "python3"
  },
  "language_info": {
   "codemirror_mode": {
    "name": "ipython",
    "version": 3
   },
   "file_extension": ".py",
   "mimetype": "text/x-python",
   "name": "python",
   "nbconvert_exporter": "python",
   "pygments_lexer": "ipython3",
   "version": "3.8.10"
  },
  "orig_nbformat": 4,
  "vscode": {
   "interpreter": {
    "hash": "916dbcbb3f70747c44a77c7bcd40155683ae19c65e1c03b4aa3499c5328201f1"
   }
  }
 },
 "nbformat": 4,
 "nbformat_minor": 2
}
