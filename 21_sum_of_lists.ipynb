{
 "cells": [
  {
   "cell_type": "markdown",
   "metadata": {},
   "source": [
    "#### Two linked list heads are given, each of which represent a non negative reversed number, you need to return a linked list that is equal to the sum of numbers represented by the two input linked list. for example: ll1 = 1->0->2, ll2 = 2->1->5, ll to be returned = 3->1->7\t"
   ]
  },
  {
   "cell_type": "code",
   "execution_count": null,
   "metadata": {},
   "outputs": [],
   "source": [
    "class Node:\n",
    "    def __init__(self, data=None, next=None):\n",
    "        self.data = data\n",
    "        self.next = next"
   ]
  },
  {
   "cell_type": "code",
   "execution_count": null,
   "metadata": {},
   "outputs": [],
   "source": [
    "class LinkedList:\n",
    "    def __init__(self):\n",
    "        self.start = None"
   ]
  },
  {
   "cell_type": "code",
   "execution_count": null,
   "metadata": {},
   "outputs": [],
   "source": [
    "def sum_of_lists(start1, start2):\n",
    "    lst = LinkedList()\n",
    "    lst.start = start1.data + start2.data\n",
    "    p = lst.start.next\n",
    "    p1 = start1.next\n",
    "    p2 = start2.next\n",
    "\n",
    "    while p1 != None:\n",
    "        p.data = p1.data + p2.data\n",
    "        p = p.next\n",
    "        p1 = p1.next\n",
    "        p2 = p2.next\n",
    "    if (not p1):\n",
    "        p.next = p1\n",
    "    if (not p2):\n",
    "        p.next = p2\n",
    "    return lst.start"
   ]
  }
 ],
 "metadata": {
  "kernelspec": {
   "display_name": "Python 3.8.10 64-bit",
   "language": "python",
   "name": "python3"
  },
  "language_info": {
   "name": "python",
   "version": "3.8.10"
  },
  "orig_nbformat": 4,
  "vscode": {
   "interpreter": {
    "hash": "916dbcbb3f70747c44a77c7bcd40155683ae19c65e1c03b4aa3499c5328201f1"
   }
  }
 },
 "nbformat": 4,
 "nbformat_minor": 2
}
