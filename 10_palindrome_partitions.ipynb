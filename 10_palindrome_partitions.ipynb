{
 "cells": [
  {
   "cell_type": "markdown",
   "metadata": {},
   "source": [
    "## Given a string, print all possible palindromic partitions"
   ]
  },
  {
   "cell_type": "markdown",
   "metadata": {},
   "source": [
    "Input : nitin\n",
    "Output: n i t i n \n",
    "        n iti n \n",
    "        nitin "
   ]
  },
  {
   "cell_type": "markdown",
   "metadata": {},
   "source": [
    "### Palindrome or Not"
   ]
  },
  {
   "cell_type": "code",
   "execution_count": 5,
   "metadata": {},
   "outputs": [],
   "source": [
    "def ispalindrome(string, low, high):\n",
    "    while low < high:\n",
    "        if string[low] != string[high]:\n",
    "            return False\n",
    "        low += 1\n",
    "        high -= 1\n",
    "    return True"
   ]
  },
  {
   "cell_type": "markdown",
   "metadata": {},
   "source": [
    "### All Palindrome Partitions Main Logic"
   ]
  },
  {
   "cell_type": "code",
   "execution_count": 6,
   "metadata": {},
   "outputs": [],
   "source": [
    "def allpalpartutil(allpal, currpal, start, end, string):\n",
    "    if start >= end:\n",
    "        allpal.append(currpal)\n",
    "        return\n",
    "    for i in range(start, end):\n",
    "        if ispalindrome(string, start, i):\n",
    "            currpal.append(string[start:i+1])\n",
    "            allpalpartutil(allpal, currpal, i+1, end, string)\n",
    "            currpal.pop()"
   ]
  },
  {
   "cell_type": "markdown",
   "metadata": {},
   "source": [
    "### Main Function"
   ]
  },
  {
   "cell_type": "code",
   "execution_count": 7,
   "metadata": {},
   "outputs": [],
   "source": [
    "def allpalpart(string):\n",
    "    allpal = []\n",
    "    currpal = []\n",
    "    n = len(string)\n",
    "    allpalpartutil(allpal, currpal, 0, n, string)\n",
    "    for curr in allpal:\n",
    "        print(' '.join(curr))"
   ]
  },
  {
   "cell_type": "markdown",
   "metadata": {},
   "source": [
    "### Driver Code"
   ]
  },
  {
   "cell_type": "code",
   "execution_count": 8,
   "metadata": {},
   "outputs": [
    {
     "name": "stdout",
     "output_type": "stream",
     "text": [
      "n i t i n \n",
      "n iti n \n",
      "nitin \n"
     ]
    }
   ],
   "source": [
    "if __name__ == \"__main__\":\n",
    "    string = \"nitin\"\n",
    "    allPalPartitions(string)"
   ]
  }
 ],
 "metadata": {
  "kernelspec": {
   "display_name": "Python 3.8.10 64-bit",
   "language": "python",
   "name": "python3"
  },
  "language_info": {
   "codemirror_mode": {
    "name": "ipython",
    "version": 3
   },
   "file_extension": ".py",
   "mimetype": "text/x-python",
   "name": "python",
   "nbconvert_exporter": "python",
   "pygments_lexer": "ipython3",
   "version": "3.8.10"
  },
  "orig_nbformat": 4,
  "vscode": {
   "interpreter": {
    "hash": "916dbcbb3f70747c44a77c7bcd40155683ae19c65e1c03b4aa3499c5328201f1"
   }
  }
 },
 "nbformat": 4,
 "nbformat_minor": 2
}
