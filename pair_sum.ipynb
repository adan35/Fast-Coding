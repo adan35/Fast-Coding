{
 "cells": [
  {
   "cell_type": "markdown",
   "metadata": {},
   "source": [
    "## Given an array A[] and a number x, check for pair in A[] with sum as x (aka Two Sum)"
   ]
  },
  {
   "cell_type": "code",
   "execution_count": null,
   "metadata": {},
   "outputs": [],
   "source": [
    "def pair_sum(arr, k):\n",
    "    hashmap = {}\n",
    "    for i in range(len(arr)):\n",
    "        temp = k - arr[i]\n",
    "        if temp in hashmap:\n",
    "            print(hashmap[temp], i)\n",
    "        hashmap[arr[i]] = i "
   ]
  }
 ],
 "metadata": {
  "language_info": {
   "name": "python"
  },
  "orig_nbformat": 4
 },
 "nbformat": 4,
 "nbformat_minor": 2
}
