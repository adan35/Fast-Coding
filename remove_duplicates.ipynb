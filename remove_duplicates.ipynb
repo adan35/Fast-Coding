{
 "cells": [
  {
   "cell_type": "markdown",
   "metadata": {},
   "source": [
    "# Remove duplicates from an unsorted linked list"
   ]
  },
  {
   "cell_type": "code",
   "execution_count": null,
   "metadata": {},
   "outputs": [],
   "source": [
    "from collections import defaultdict\n",
    "def remove_duplicates(head):\n",
    "    dict = defaultdict(int)\n",
    "    if head == None or head.next == None:\n",
    "        return head\n",
    "    p = head\n",
    "    dict[p.data] = 1\n",
    "    while p.next != None:\n",
    "        if dict[p.next.data] == 1:\n",
    "            p.next = p.next.next\n",
    "        else:\n",
    "            dict[p.next.data] += 1\n",
    "            p = p.next\n",
    "    return head"
   ]
  }
 ],
 "metadata": {
  "language_info": {
   "name": "python"
  },
  "orig_nbformat": 4
 },
 "nbformat": 4,
 "nbformat_minor": 2
}
