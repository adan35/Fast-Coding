{
 "cells": [
  {
   "cell_type": "markdown",
   "metadata": {},
   "source": [
    "## Merge Two Binary Trees by doing Node Sum (Recursive and Iterative)"
   ]
  },
  {
   "cell_type": "markdown",
   "metadata": {},
   "source": [
    "Given two binary trees. We need to merge them into a new binary tree. The merge rule is that if two nodes overlap, then sum node values up as the new value of the merged node. Otherwise, the non-null node will be used as the node of new tree."
   ]
  },
  {
   "cell_type": "markdown",
   "metadata": {},
   "source": [
    "**Example:**  \n",
    "\n",
    "Input: \n",
    "     Tree 1            Tree 2                  \n",
    "       2                 3                             \n",
    "      / \\               / \\                            \n",
    "     1   4             6   1                        \n",
    "    /                   \\   \\                      \n",
    "   5                     2   7                  \n",
    "\n",
    "Output: Merged tree:\n",
    "         5\n",
    "        / \\\n",
    "       7   5\n",
    "      / \\   \\ \n",
    "     5   2   7"
   ]
  },
  {
   "cell_type": "markdown",
   "metadata": {},
   "source": [
    "### Node Class"
   ]
  },
  {
   "cell_type": "code",
   "execution_count": 2,
   "metadata": {},
   "outputs": [],
   "source": [
    "class newNode:\n",
    "    def __init__(self, data):\n",
    "        self.data = data\n",
    "        self.left = self.right = None"
   ]
  },
  {
   "cell_type": "markdown",
   "metadata": {},
   "source": [
    "### Inorder Traversal"
   ]
  },
  {
   "cell_type": "code",
   "execution_count": 4,
   "metadata": {},
   "outputs": [],
   "source": [
    "def inorder(root):\n",
    "    if (not root):\n",
    "        return\n",
    "    inorder(root.left)\n",
    "    print(root.data, end=\" \")\n",
    "    inorder(root.right)"
   ]
  },
  {
   "cell_type": "markdown",
   "metadata": {},
   "source": [
    "### Merge Trees"
   ]
  },
  {
   "cell_type": "code",
   "execution_count": 11,
   "metadata": {},
   "outputs": [],
   "source": [
    "def mergeTrees(t1, t2):\n",
    "    if (not t1):\n",
    "        return t2\n",
    "    if (not t2):\n",
    "        return t1\n",
    "    t1.data += t2.data\n",
    "    t1.left = mergeTrees(t1.left, t2.left)\n",
    "    t2.right = mergeTrees(t1.right, t2.right)\n",
    "    return t1"
   ]
  },
  {
   "cell_type": "markdown",
   "metadata": {},
   "source": [
    "### Drive Code"
   ]
  },
  {
   "cell_type": "code",
   "execution_count": 12,
   "metadata": {},
   "outputs": [],
   "source": [
    "# Let us construct the first Binary Tree\n",
    "#      1\n",
    "#     / \\\n",
    "#    2   3\n",
    "#  / \\    \\\n",
    "# 4  5     6\n",
    "root1 = newNode(1)\n",
    "root1.left = newNode(2)\n",
    "root1.right = newNode(3)\n",
    "root1.left.left = newNode(4)\n",
    "root1.left.right = newNode(5)\n",
    "root1.right.right = newNode(6)\n",
    "\n",
    "# Let us construct the second Binary Tree\n",
    "#      4\n",
    "#     / \\\n",
    "#   1   7\n",
    "#  /   / \\\n",
    "# 3   2  6\n",
    "root2 = newNode(4)\n",
    "root2.left = newNode(1)\n",
    "root2.right = newNode(7)\n",
    "root2.left.left = newNode(3)\n",
    "root2.right.left = newNode(2)\n",
    "root2.right.right = newNode(6)"
   ]
  },
  {
   "cell_type": "code",
   "execution_count": 13,
   "metadata": {},
   "outputs": [
    {
     "name": "stdout",
     "output_type": "stream",
     "text": [
      "The Merged Binary Tree is:\n",
      "7 3 5 5 2 10 12 "
     ]
    }
   ],
   "source": [
    "root3 = mergeTrees(root1, root2)\n",
    "print(\"The Merged Binary Tree is:\")\n",
    "inorder(root3)"
   ]
  }
 ],
 "metadata": {
  "kernelspec": {
   "display_name": "Python 3.8.10 64-bit",
   "language": "python",
   "name": "python3"
  },
  "language_info": {
   "codemirror_mode": {
    "name": "ipython",
    "version": 3
   },
   "file_extension": ".py",
   "mimetype": "text/x-python",
   "name": "python",
   "nbconvert_exporter": "python",
   "pygments_lexer": "ipython3",
   "version": "3.8.10"
  },
  "orig_nbformat": 4,
  "vscode": {
   "interpreter": {
    "hash": "916dbcbb3f70747c44a77c7bcd40155683ae19c65e1c03b4aa3499c5328201f1"
   }
  }
 },
 "nbformat": 4,
 "nbformat_minor": 2
}
