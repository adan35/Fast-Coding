{
 "cells": [
  {
   "cell_type": "markdown",
   "metadata": {},
   "source": [
    "## Sum of all the numbers that are formed from root to leaf paths"
   ]
  },
  {
   "cell_type": "markdown",
   "metadata": {},
   "source": [
    "#### Node Class"
   ]
  },
  {
   "cell_type": "code",
   "execution_count": 10,
   "metadata": {},
   "outputs": [],
   "source": [
    "class newNode:\n",
    "    def __init__(self, data=None, left=None, right=None):\n",
    "        self.data = data\n",
    "        self.left = left\n",
    "        self.right = right"
   ]
  },
  {
   "cell_type": "markdown",
   "metadata": {},
   "source": [
    "#### Tree All Path Sum"
   ]
  },
  {
   "cell_type": "code",
   "execution_count": 11,
   "metadata": {},
   "outputs": [],
   "source": [
    "def maxsumpath(root, currpath, maxpath):\n",
    "    if root == None:\n",
    "        return\n",
    "    currpath.append(root.data)\n",
    "    if root.left == None and root.right == None:\n",
    "        if len(maxpath) == 0:\n",
    "            maxpath.append(currpath.copy())\n",
    "        elif len(currpath) > len(maxpath.pop()):\n",
    "            maxpath.append(currpath.copy())\n",
    "    maxsumpath(root.left, currpath, maxpath)\n",
    "    maxsumpath(root.right, currpath, maxpath)\n",
    "    currpath.pop()"
   ]
  },
  {
   "cell_type": "markdown",
   "metadata": {},
   "source": [
    "#### Driver Code"
   ]
  },
  {
   "cell_type": "code",
   "execution_count": 12,
   "metadata": {},
   "outputs": [],
   "source": [
    "# Let us construct the first Binary Tree\n",
    "#      1\n",
    "#     / \\\n",
    "#    2   3\n",
    "#  / \\    \\\n",
    "# 4  5     7\n",
    "root = newNode(1)\n",
    "root.left = newNode(2)\n",
    "root.right = newNode(3)\n",
    "root.left.left = newNode(4)\n",
    "root.left.right = newNode(5)\n",
    "root.right.right = newNode(7)"
   ]
  },
  {
   "cell_type": "code",
   "execution_count": 13,
   "metadata": {},
   "outputs": [],
   "source": [
    "maxpath = []\n",
    "maxsumpath(root, [], maxpath)"
   ]
  },
  {
   "cell_type": "code",
   "execution_count": 14,
   "metadata": {},
   "outputs": [
    {
     "data": {
      "text/plain": [
       "[[1, 3, 7]]"
      ]
     },
     "execution_count": 14,
     "metadata": {},
     "output_type": "execute_result"
    }
   ],
   "source": [
    "maxpath"
   ]
  }
 ],
 "metadata": {
  "kernelspec": {
   "display_name": "Python 3.8.10 64-bit",
   "language": "python",
   "name": "python3"
  },
  "language_info": {
   "codemirror_mode": {
    "name": "ipython",
    "version": 3
   },
   "file_extension": ".py",
   "mimetype": "text/x-python",
   "name": "python",
   "nbconvert_exporter": "python",
   "pygments_lexer": "ipython3",
   "version": "3.8.10"
  },
  "orig_nbformat": 4,
  "vscode": {
   "interpreter": {
    "hash": "916dbcbb3f70747c44a77c7bcd40155683ae19c65e1c03b4aa3499c5328201f1"
   }
  }
 },
 "nbformat": 4,
 "nbformat_minor": 2
}
