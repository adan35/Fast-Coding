{
 "cells": [
  {
   "cell_type": "markdown",
   "metadata": {},
   "source": [
    "# Sort a linked list"
   ]
  },
  {
   "cell_type": "markdown",
   "metadata": {},
   "source": [
    "#### Node"
   ]
  },
  {
   "cell_type": "code",
   "execution_count": 1,
   "metadata": {},
   "outputs": [],
   "source": [
    "class Node:\n",
    "    def __init__(self, data=None, next=None):\n",
    "        self.data = data\n",
    "        self.next = next"
   ]
  },
  {
   "cell_type": "markdown",
   "metadata": {},
   "source": [
    "#### Linked List"
   ]
  },
  {
   "cell_type": "code",
   "execution_count": 4,
   "metadata": {},
   "outputs": [],
   "source": [
    "class LinkedList:\n",
    "    def __init__(self):\n",
    "        self.start = None\n",
    "\n",
    "    # Insert At End\n",
    "    def insert(self, data):\n",
    "        if self.start == None:\n",
    "            self.start = Node(data)\n",
    "        p = self.start \n",
    "        while p.next != None:\n",
    "            p = p.next\n",
    "        p.next = Node(data)\n",
    "\n",
    "    # Display Linked List\n",
    "    def display(self):\n",
    "        if self.start == None:\n",
    "            return \"Linked List is empty\"\n",
    "        p = self.start\n",
    "        while p != None:\n",
    "            print(p.data, end=\" \")\n",
    "            p = p.next\n",
    "        print()"
   ]
  },
  {
   "cell_type": "markdown",
   "metadata": {},
   "source": [
    "#### Divide List"
   ]
  },
  {
   "cell_type": "code",
   "execution_count": 5,
   "metadata": {},
   "outputs": [],
   "source": [
    "def divide_list(start1):\n",
    "    start2 = start1.next.next\n",
    "    while start2 != None and start2.next != None:\n",
    "        start1 = start1.next\n",
    "        start2 = start2.next.next\n",
    "    start2 = start1.next\n",
    "    start1.next = None\n",
    "    return start2"
   ]
  },
  {
   "cell_type": "markdown",
   "metadata": {},
   "source": [
    "#### Merge Two Linked Lists"
   ]
  },
  {
   "cell_type": "code",
   "execution_count": 6,
   "metadata": {},
   "outputs": [],
   "source": [
    "def merge_2_list(start1, start2):\n",
    "    n1 = start1\n",
    "    n2 = start2\n",
    "    if n1.data < n2.data:\n",
    "        start = n1\n",
    "        n1 = n1.next\n",
    "    else:\n",
    "        start = n2 \n",
    "        n2 = n2.next\n",
    "\n",
    "    curr = start\n",
    "\n",
    "    while n1 != None and n2 != None:\n",
    "        if n1.data < n2.data:\n",
    "            curr.next = n1\n",
    "            n1 = n1.next\n",
    "        else:\n",
    "            curr.next = n2\n",
    "            n2 = n2.next\n",
    "        curr = curr.next\n",
    "    if n1 == None:\n",
    "        curr.next = n2\n",
    "    if n2 == None:\n",
    "        curr.next = n1\n",
    "    return start"
   ]
  },
  {
   "cell_type": "markdown",
   "metadata": {},
   "source": [
    "#### Merge Sort"
   ]
  },
  {
   "cell_type": "code",
   "execution_count": 7,
   "metadata": {},
   "outputs": [],
   "source": [
    "def merge_sort(start):\n",
    "    if start != None or start.next != None:\n",
    "        return start\n",
    "    \n",
    "    start2 = divide_list(start)\n",
    "    start1 = merge_sort(start)\n",
    "    start2 = merge_sort(start2)\n",
    "    start = merge_2_list(start1, start2)\n",
    "    return start"
   ]
  },
  {
   "cell_type": "code",
   "execution_count": 8,
   "metadata": {},
   "outputs": [
    {
     "name": "stdout",
     "output_type": "stream",
     "text": [
      "stars\n"
     ]
    }
   ],
   "source": [
    "print(\"stars\")"
   ]
  }
 ],
 "metadata": {
  "kernelspec": {
   "display_name": "Python 3.8.10 64-bit",
   "language": "python",
   "name": "python3"
  },
  "language_info": {
   "codemirror_mode": {
    "name": "ipython",
    "version": 3
   },
   "file_extension": ".py",
   "mimetype": "text/x-python",
   "name": "python",
   "nbconvert_exporter": "python",
   "pygments_lexer": "ipython3",
   "version": "3.8.10"
  },
  "orig_nbformat": 4,
  "vscode": {
   "interpreter": {
    "hash": "916dbcbb3f70747c44a77c7bcd40155683ae19c65e1c03b4aa3499c5328201f1"
   }
  }
 },
 "nbformat": 4,
 "nbformat_minor": 2
}
