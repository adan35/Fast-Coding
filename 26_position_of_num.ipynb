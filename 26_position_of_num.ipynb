{
 "cells": [
  {
   "cell_type": "markdown",
   "metadata": {},
   "source": [
    "## You have given a sorted array of unknown size how would you search an element from array\t"
   ]
  },
  {
   "cell_type": "code",
   "execution_count": 1,
   "metadata": {},
   "outputs": [],
   "source": [
    "def binary_search(arr, l, r, x):\n",
    "    if r >= l:\n",
    "        mid = (l + (r-l)) // 2\n",
    "        if arr[mid]:\n",
    "            return mid\n",
    "        elif x < arr[mid]:\n",
    "            binary_search(arr, l, mid-1, x)\n",
    "        else:\n",
    "            binary_search(arr, mid+1, r, x)\n",
    "    else:\n",
    "        return -1"
   ]
  },
  {
   "cell_type": "code",
   "execution_count": null,
   "metadata": {},
   "outputs": [],
   "source": [
    "def find_pos(arr, key):\n",
    "    l = 0\n",
    "    h = 1\n",
    "    val = arr\n",
    "    while val < key:\n",
    "        l = h\n",
    "        h = 2*h\n",
    "        val = arr[h]\n",
    "    return binary_search(arr, l, h, key)"
   ]
  }
 ],
 "metadata": {
  "kernelspec": {
   "display_name": "Python 3.8.10 64-bit",
   "language": "python",
   "name": "python3"
  },
  "language_info": {
   "codemirror_mode": {
    "name": "ipython",
    "version": 3
   },
   "file_extension": ".py",
   "mimetype": "text/x-python",
   "name": "python",
   "nbconvert_exporter": "python",
   "pygments_lexer": "ipython3",
   "version": "3.8.10"
  },
  "orig_nbformat": 4,
  "vscode": {
   "interpreter": {
    "hash": "916dbcbb3f70747c44a77c7bcd40155683ae19c65e1c03b4aa3499c5328201f1"
   }
  }
 },
 "nbformat": 4,
 "nbformat_minor": 2
}
