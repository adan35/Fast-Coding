{
 "cells": [
  {
   "cell_type": "code",
   "execution_count": 1,
   "metadata": {},
   "outputs": [],
   "source": [
    "def is_path(arr, row, col):\n",
    "    Dir = [[0,1], [0,-1], [1,0],[-1,0]]\n",
    "    q = []\n",
    "    q.append((0,0))\n",
    "    while len(q) != 0:\n",
    "        p = q[0]\n",
    "        q.pop(0)\n",
    "        # mark visited\n",
    "        arr[p[0]][p[1]] = -1\n",
    "        # reached destination\n",
    "        if p == (row-1, col-1):\n",
    "            return True \n",
    "        # check all four directions\n",
    "        for i in range(4):\n",
    "            a = p[0] + Dir[i][0]\n",
    "            b = p[1] + Dir[i][1]\n",
    "            # check if valid\n",
    "            if a < row and b < col and a >= 0 and b >= 0 and arr[a][b] != -1:\n",
    "                q.append(arr[a][b])\n",
    "        return False"
   ]
  }
 ],
 "metadata": {
  "kernelspec": {
   "display_name": "Python 3.8.10 64-bit",
   "language": "python",
   "name": "python3"
  },
  "language_info": {
   "codemirror_mode": {
    "name": "ipython",
    "version": 3
   },
   "file_extension": ".py",
   "mimetype": "text/x-python",
   "name": "python",
   "nbconvert_exporter": "python",
   "pygments_lexer": "ipython3",
   "version": "3.8.10"
  },
  "orig_nbformat": 4,
  "vscode": {
   "interpreter": {
    "hash": "916dbcbb3f70747c44a77c7bcd40155683ae19c65e1c03b4aa3499c5328201f1"
   }
  }
 },
 "nbformat": 4,
 "nbformat_minor": 2
}
